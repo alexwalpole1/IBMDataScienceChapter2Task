{
 "cells": [
  {
   "cell_type": "markdown",
   "id": "8f2f12a3-9579-40fe-978c-fd33a7bbb6d0",
   "metadata": {
    "tags": []
   },
   "source": [
    "# Data Science Tools and Ecosystem"
   ]
  },
  {
   "cell_type": "markdown",
   "id": "acda2e2c-fdb4-4f4d-92d9-a044d79b6647",
   "metadata": {},
   "source": [
    "In this notebook, Data Science Tools and Ecosystem are summarised."
   ]
  },
  {
   "cell_type": "markdown",
   "id": "8b8506c9-c925-49f8-b6c1-394c101221a3",
   "metadata": {},
   "source": [
    "Some of the popular languages used by Data Scientists are:\n",
    "1. Python\n",
    "2. R\n",
    "3. Stata\n",
    "4. Julia"
   ]
  },
  {
   "cell_type": "markdown",
   "id": "f62e2447-3cb7-4d23-8474-ca1b2c503fb5",
   "metadata": {},
   "source": [
    "Some of the most commonly used libraries by Data Scientists include:\n",
    "1. Matplotlib\n",
    "2. Pandas\n",
    "3. NumPy\n",
    "4. Seaborn"
   ]
  },
  {
   "cell_type": "markdown",
   "id": "7847b1a6-561f-4bb5-b9a4-11fa259fcf17",
   "metadata": {},
   "source": [
    "| Data Science Tools |\n",
    "|------|\n",
    "|Apache Spark|\n",
    "|GitHub|\n",
    "|Apache Hadoop|\n",
    "|TensorFlow|"
   ]
  },
  {
   "cell_type": "markdown",
   "id": "e358760c-8fb7-4445-a0d8-7528345d0432",
   "metadata": {
    "tags": []
   },
   "source": [
    "### Here are a few examples of evaluating arithmetic expressions in Python"
   ]
  },
  {
   "cell_type": "code",
   "execution_count": 4,
   "id": "99e25c8a-483a-47db-a291-3c286c486840",
   "metadata": {},
   "outputs": [
    {
     "data": {
      "text/plain": [
       "17"
      ]
     },
     "execution_count": 4,
     "metadata": {},
     "output_type": "execute_result"
    }
   ],
   "source": [
    "# This is a simple arithmetic expression to multiply then add integers\n",
    "(3*4)+5"
   ]
  },
  {
   "cell_type": "code",
   "execution_count": 5,
   "id": "fc87dfaa-a4d8-40a7-abd1-ec9aea3e335a",
   "metadata": {},
   "outputs": [
    {
     "data": {
      "text/plain": [
       "3.3333333333333335"
      ]
     },
     "execution_count": 5,
     "metadata": {},
     "output_type": "execute_result"
    }
   ],
   "source": [
    "#This converts 200 minutes into hours by dividing by 60\n",
    "200/60"
   ]
  },
  {
   "cell_type": "markdown",
   "id": "72b44d8d-4302-4427-8a24-0dbedcbe970f",
   "metadata": {},
   "source": [
    "__Objectives:__\n",
    "- List popular languages for Data Science\n",
    "- List popular Data Science tools\n",
    "- List popular Data Science libraries\n",
    "- Show how to perform simple arithmetic operations using Python"
   ]
  },
  {
   "cell_type": "markdown",
   "id": "67708b38-dfdb-407f-9af1-f5df20887a40",
   "metadata": {},
   "source": [
    "## Author \n",
    "Alex Walpole"
   ]
  }
 ],
 "metadata": {
  "kernelspec": {
   "display_name": "Python 3 (ipykernel)",
   "language": "python",
   "name": "python3"
  },
  "language_info": {
   "codemirror_mode": {
    "name": "ipython",
    "version": 3
   },
   "file_extension": ".py",
   "mimetype": "text/x-python",
   "name": "python",
   "nbconvert_exporter": "python",
   "pygments_lexer": "ipython3",
   "version": "3.9.12"
  }
 },
 "nbformat": 4,
 "nbformat_minor": 5
}
